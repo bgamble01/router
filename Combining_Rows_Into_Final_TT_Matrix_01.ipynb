{
 "cells": [
  {
   "cell_type": "code",
   "execution_count": 11,
   "metadata": {},
   "outputs": [],
   "source": [
    "import geopandas as gpd \n",
    "import numpy as np\n",
    "import os.path \n",
    "from pandas import read_csv\n",
    "import urllib.request, json\n",
    "import csv"
   ]
  },
  {
   "cell_type": "code",
   "execution_count": 12,
   "metadata": {},
   "outputs": [],
   "source": [
    "f = '/Users/bengamble/Desktop/REU/Router/2020_OH_Cent/2020_OH_All_BG_Centroids.shp'\n",
    "OHgrid2 = gpd.read_file(f)\n",
    "OHgrid2['lat,long','geoid'] = list(zip(OHgrid2.Centroid_X, OHgrid2.Centroid_Y, OHgrid2.GEOID))\n",
    "xytups2 = OHgrid2['lat,long','geoid'].tolist() "
   ]
  },
  {
   "cell_type": "code",
   "execution_count": 14,
   "metadata": {},
   "outputs": [
    {
     "name": "stdout",
     "output_type": "stream",
     "text": [
      "(-83.34646147, 39.00621883, '390017701001')\n",
      "(-83.42492858, 38.95576976, '390017701002')\n",
      "9466\n"
     ]
    }
   ],
   "source": [
    "print(xytups2[0])\n",
    "print(xytups2[1])\n",
    "print(len(xytups2))"
   ]
  },
  {
   "cell_type": "code",
   "execution_count": 33,
   "metadata": {},
   "outputs": [
    {
     "name": "stderr",
     "output_type": "stream",
     "text": [
      "/Users/bengamble/opt/anaconda3/envs/geo_env/lib/python3.10/site-packages/pandas/core/indexes/base.py:6982: FutureWarning: In a future version, the Index constructor will not infer numeric dtypes when passed object-dtype sequences (matching Series behavior)\n",
      "  return Index(sequences[0], name=names)\n"
     ]
    }
   ],
   "source": [
    "input_file = '/Users/bengamble/Desktop/REU/Router/TT_Matrix/TT_Rows/TT_Rows'\n",
    "out_file= \"out1.csv\"\n",
    "\n",
    "for i in range(0,120):#len(xytups2)): \n",
    "    if os.path.exists(input_file+ str(i) +\".csv\"): \n",
    "        \n",
    "        with open(input_file+ str(i) +'.csv', 'r') as csvfile:\n",
    "            csvreader= csv.reader(csvfile) \n",
    "            row = next(csvreader)\n",
    "            #print(len(row))\n",
    "        with open(out_file,\"a\") as f:\n",
    "            wr = csv.writer(f, delimiter=\",\")\n",
    "            wr.writerow(row)\n",
    "            #print(len(out_file[0]))\n",
    "    else: \n",
    "        print(\"brody messed up\")\n",
    "  \n",
    "geoid = [] \n",
    "for i in range(0,len(xytups2)): \n",
    "    geoid.append(int(xytups2[i][2]))\n",
    "\n",
    "\n",
    "dmatrix = read_csv(out_file, index_col=False, low_memory=False, header=None)\n",
    "dmatrix[\"GEOID\"] = \"\"\n",
    "for i in range(0,120):\n",
    "    dmatrix.at[i,'GEOID']=geoid[i]\n",
    "dmatrix.set_index('GEOID', inplace=True)\n",
    "dmatrix.columns = geoid\n",
    "\n",
    "dmatrix.to_csv('Smaller_TT_matrix.csv') #ALL DONE OUTPUT "
   ]
  },
  {
   "cell_type": "code",
   "execution_count": 14,
   "metadata": {},
   "outputs": [
    {
     "ename": "TypeError",
     "evalue": "int() argument must be a string, a bytes-like object or a number, not 'list'",
     "output_type": "error",
     "traceback": [
      "\u001b[1;31m---------------------------------------------------------------------------\u001b[0m",
      "\u001b[1;31mTypeError\u001b[0m                                 Traceback (most recent call last)",
      "\u001b[1;32m<ipython-input-14-92b798566cda>\u001b[0m in \u001b[0;36m<module>\u001b[1;34m\u001b[0m\n\u001b[1;32m----> 1\u001b[1;33m \u001b[0mprint\u001b[0m\u001b[1;33m(\u001b[0m\u001b[0mint\u001b[0m\u001b[1;33m(\u001b[0m\u001b[0mgeoid10\u001b[0m\u001b[1;33m)\u001b[0m\u001b[1;33m)\u001b[0m\u001b[1;33m\u001b[0m\u001b[1;33m\u001b[0m\u001b[0m\n\u001b[0m",
      "\u001b[1;31mTypeError\u001b[0m: int() argument must be a string, a bytes-like object or a number, not 'list'"
     ]
    }
   ],
   "source": [
    "print(int(geoid10))"
   ]
  },
  {
   "cell_type": "code",
   "execution_count": 20,
   "metadata": {},
   "outputs": [],
   "source": [
    "np.savetxt(\"oof.csv\",xx , delimiter=',')"
   ]
  },
  {
   "cell_type": "code",
   "execution_count": 13,
   "metadata": {},
   "outputs": [
    {
     "name": "stdout",
     "output_type": "stream",
     "text": [
      "['391450036002' '391450028002' '391450028003' ... '390250420002'\n",
      " '390017705003' '390017703004']\n"
     ]
    }
   ],
   "source": []
  },
  {
   "cell_type": "code",
   "execution_count": 15,
   "metadata": {},
   "outputs": [],
   "source": []
  },
  {
   "cell_type": "code",
   "execution_count": 17,
   "metadata": {},
   "outputs": [],
   "source": []
  },
  {
   "cell_type": "code",
   "execution_count": 18,
   "metadata": {},
   "outputs": [
    {
     "name": "stdout",
     "output_type": "stream",
     "text": [
      "[391450036002 391450028002 391450028003 ... 390250420002 390017705003\n",
      " 390017703004]\n"
     ]
    }
   ],
   "source": []
  },
  {
   "cell_type": "code",
   "execution_count": null,
   "metadata": {},
   "outputs": [],
   "source": []
  }
 ],
 "metadata": {
  "kernelspec": {
   "display_name": "Python 3 (ipykernel)",
   "language": "python",
   "name": "python3"
  },
  "language_info": {
   "codemirror_mode": {
    "name": "ipython",
    "version": 3
   },
   "file_extension": ".py",
   "mimetype": "text/x-python",
   "name": "python",
   "nbconvert_exporter": "python",
   "pygments_lexer": "ipython3",
   "version": "3.10.5"
  }
 },
 "nbformat": 4,
 "nbformat_minor": 2
}
